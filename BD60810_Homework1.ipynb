{
 "cells": [
  {
   "cell_type": "markdown",
   "id": "bdb0cad3",
   "metadata": {},
   "source": [
    "<H1>The following cell imports the csv file into two lists of each feature.</H1>"
   ]
  },
  {
   "cell_type": "code",
   "execution_count": 63,
   "id": "b07d271c",
   "metadata": {
    "scrolled": true
   },
   "outputs": [
    {
     "name": "stdout",
     "output_type": "stream",
     "text": [
      "     mpg  weight\n",
      "0   21.0   2.620\n",
      "1   21.0   2.875\n",
      "2   22.8   2.320\n",
      "3   21.4   3.215\n",
      "4   18.7   3.440\n",
      "5   18.1   3.460\n",
      "6   14.3   3.570\n",
      "7   24.4   3.190\n",
      "8   22.8   3.150\n",
      "9   19.2   3.440\n",
      "10  17.8   3.440\n",
      "11  16.4   4.070\n",
      "12  17.3   3.730\n",
      "13  15.2   3.780\n",
      "14  10.4   5.250\n",
      "15  10.4   5.424\n",
      "16  14.7   5.345\n",
      "17  32.4   2.200\n",
      "18  30.4   1.615\n",
      "19  33.9   1.835\n",
      "20  21.5   2.465\n",
      "21  15.5   3.520\n",
      "22  15.2   3.435\n",
      "23  13.3   3.840\n",
      "24  19.2   3.845\n",
      "25  27.3   1.935\n",
      "26  26.0   2.140\n",
      "27  30.4   1.513\n",
      "28  15.8   3.170\n",
      "29  19.7   2.770\n",
      "30  15.0   3.570\n",
      "31  21.4   2.780\n",
      "[21.0, 21.0, 22.8, 21.4, 18.7, 18.1, 14.3, 24.4, 22.8, 19.2, 17.8, 16.4, 17.3, 15.2, 10.4, 10.4, 14.7, 32.4, 30.4, 33.9, 21.5, 15.5, 15.2, 13.3, 19.2, 27.3, 26.0, 30.4, 15.8, 19.7, 15.0, 21.4]\n",
      "[2.62, 2.875, 2.32, 3.215, 3.44, 3.46, 3.57, 3.19, 3.15, 3.44, 3.44, 4.07, 3.73, 3.78, 5.25, 5.424, 5.345, 2.2, 1.615, 1.835, 2.465, 3.52, 3.435, 3.84, 3.845, 1.935, 2.14, 1.513, 3.17, 2.77, 3.57, 2.78]\n"
     ]
    }
   ],
   "source": [
    "import pandas as pd\n",
    "import matplotlib.pyplot as plt\n",
    "import math\n",
    "import time\n",
    "\n",
    "data = pd.read_csv(r'C:\\Users\\evana\\Untitled Folder\\cars(4).csv')\n",
    "data_mpg = data['mpg'].tolist();\n",
    "data_weight = data['weight'].tolist();\n",
    "\n",
    "print(data)\n",
    "print(data_mpg)\n",
    "print(data_weight)"
   ]
  },
  {
   "cell_type": "markdown",
   "id": "c23784d1",
   "metadata": {},
   "source": [
    "<H1>******PART A********</H1>\n",
    "\n",
    "Scale the feature weight using mean normalization.\n",
    "Print the first 5 values of scaled weight. Calculate the mean and variance of scaled weight."
   ]
  },
  {
   "cell_type": "code",
   "execution_count": 2,
   "id": "45b6bef7",
   "metadata": {
    "scrolled": true
   },
   "outputs": [
    {
     "name": "stdout",
     "output_type": "stream",
     "text": [
      "Population mean:  3.2172499999999995\n",
      "Scaled Weight  1  : -0.6201665807281301\n",
      "Scaled Weight  2  : -0.35538218878895345\n",
      "Scaled Weight  3  : -0.9316776300683385\n",
      "Scaled Weight  4  : -0.0023363328700511873\n",
      "Scaled Weight  5  : 0.23129695413510493\n",
      "Scaled_Weight Mean:  4.9439619065339e-16\n",
      "Scaled_Weight Variance: 11.350697562499995\n"
     ]
    }
   ],
   "source": [
    "scaled_weight = []\n",
    "count = 0\n",
    "temp_sum = 0\n",
    "mean = 0\n",
    "\n",
    "#Total of the weight then calculating the mean \n",
    "for count in range(len(data_weight)):\n",
    "    temp_sum += data_weight[count]\n",
    "\n",
    "mean = temp_sum / len(data_weight)\n",
    "print(\"Population mean: \", mean)\n",
    "\n",
    "#Initializing the scaled weight list and scaling the weight \n",
    "temp = 0\n",
    "for count in range(len(data_weight)):\n",
    "    temp += (data_weight[count] - mean)**2\n",
    "\n",
    "std = math.sqrt(temp/len(data_weight))\n",
    "\n",
    "for count in range(len(data_weight)):\n",
    "    scaled_weight.append((data_weight[count]-mean)/std)\n",
    "\n",
    "#Prints the first 5 values of scaled weight\n",
    "for count in range(5):\n",
    "    print(\"Scaled Weight \", count+1, \" :\", scaled_weight[count])\n",
    "\n",
    "#Calculating the mean of scaled weights\n",
    "mean_sum = 0\n",
    "for count in range(len(scaled_weight)):\n",
    "    mean_sum += scaled_weight[count]\n",
    "    \n",
    "scaled_mean = mean_sum / len(scaled_weight)\n",
    "\n",
    "#Calculating the variance of scaled weight\n",
    "scaled_temp = 0\n",
    "for count in range(len(scaled_weight)):\n",
    "    scaled_temp += (scaled_weight[count] - mean)**2\n",
    "\n",
    "scaled_variance = scaled_temp / len(scaled_weight)\n",
    "\n",
    "print(\"Scaled_Weight Mean: \", scaled_mean)\n",
    "print(\"Scaled_Weight Variance:\", scaled_variance)"
   ]
  },
  {
   "cell_type": "markdown",
   "id": "a48460a4",
   "metadata": {},
   "source": [
    "<H1>******PART B*******</H1>\n",
    "\n",
    "Make a scatter plot of mpg (on y-axis) and scaled weight (on x-axis). What is your interpretation\n",
    "of the plot?"
   ]
  },
  {
   "cell_type": "code",
   "execution_count": 3,
   "id": "c0200942",
   "metadata": {
    "scrolled": true
   },
   "outputs": [
    {
     "data": {
      "text/plain": [
       "<AxesSubplot:title={'center':'MPG to Normalized Weight'}, xlabel='Scaled_Weight', ylabel='mpg'>"
      ]
     },
     "execution_count": 3,
     "metadata": {},
     "output_type": "execute_result"
    },
    {
     "data": {
      "image/png": "[encoded data removed]",
      "text/plain": [
       "<Figure size 432x288 with 1 Axes>"
      ]
     },
     "metadata": {
      "needs_background": "light"
     },
     "output_type": "display_data"
    }
   ],
   "source": [
    "#Use pandas to make scatter plot \n",
    "data['Scaled_Weight'] = scaled_weight\n",
    "data.plot.scatter(x = 'Scaled_Weight', y = 'mpg', title = \"MPG to Normalized Weight\", grid = True)"
   ]
  },
  {
   "cell_type": "markdown",
   "id": "26a3d6ed",
   "metadata": {},
   "source": [
    "<H4>Interpretation of MPG to Noramlized Weight</H4>\n",
    "\n",
    "The scatter plot shows a negative correlation between mpg and weight. \n",
    "As the weight increases, the mpg decreases. This data is not highly correlated."
   ]
  },
  {
   "cell_type": "markdown",
   "id": "4d38184d",
   "metadata": {},
   "source": [
    "<H1>******PART C*******</H1>\n",
    "\n",
    "Learn a simple linear hypothesis to predict mpg based on scaled weight using the gradient descent\n",
    "algorithm. Set the random initialization for each of the parameters as 0, the learning rate as .20,\n",
    "and the convergence threshold as 1e−5"
   ]
  },
  {
   "cell_type": "code",
   "execution_count": 4,
   "id": "b3583111",
   "metadata": {
    "scrolled": true
   },
   "outputs": [
    {
     "name": "stdout",
     "output_type": "stream",
     "text": [
      "Theta0:  20.09058651400847\n",
      "Theta1:  -5.146971203174536\n",
      "Done.\n"
     ]
    }
   ],
   "source": [
    "#Initializing Theta0 & Theta1\n",
    "theta0 = 0\n",
    "theta1 = 0\n",
    "\n",
    "#Old Thetas\n",
    "last_theta0 = 1\n",
    "last_theta1 = 1\n",
    "\n",
    "# Initialize learning rate and convergence\n",
    "learning_rate = 0.2\n",
    "convergence = 1e-5\n",
    "\n",
    "#Cost Function\n",
    "J = 0  # should be a singular number\n",
    "last_cost = 0\n",
    "converged = False\n",
    "\n",
    "#Initializing the hypothesis\n",
    "H = [0] * len(scaled_weight)\n",
    "\n",
    "#Continues until the the change in theta0 and theta1 is less than the convergence\n",
    "while not converged:\n",
    "    #Creating hypothesises\n",
    "    for count in range(len(scaled_weight)):\n",
    "        H[count] = theta0 + theta1 * scaled_weight[count]\n",
    "\n",
    "    #Creating the sums used in the cost value and theta calculations\n",
    "    temp_sum = [0] * len(scaled_weight)\n",
    "    temp_sum_squared = [0] * len(scaled_weight)\n",
    "    for count in range(len(scaled_weight)):\n",
    "        temp_sum[count] = H[count] - data_mpg[count]\n",
    "        temp_sum_squared[count] = temp_sum[count] ** 2\n",
    "\n",
    "    #Creating the sums usied in the cost value and theta calculations\n",
    "    #***These could have been combined but due to amount I chose to separate for readability\n",
    "    H_sum = 0\n",
    "    H_squared_sum = 0\n",
    "    theta1_derivitive = 0\n",
    "    for count in range(len(scaled_weight)):\n",
    "        H_sum += temp_sum[count]\n",
    "        H_squared_sum += temp_sum_squared[count]\n",
    "        theta1_derivitive += temp_sum[count] * scaled_weight[count]\n",
    "\n",
    "    #Calculating the cost of each iteration\n",
    "    J = (1 / (2 * len(scaled_weight))) * H_squared_sum\n",
    "\n",
    "    #Checking for convergence\n",
    "    if abs(theta0 - last_theta0) < convergence and abs(theta1 - last_theta1) < convergence:\n",
    "        converged = True\n",
    "    else:\n",
    "        #Saving previous thetas and cost\n",
    "        last_cost = J\n",
    "        last_theta0 = theta0\n",
    "        last_theta1 = theta1\n",
    "        #Creating the new thetas\n",
    "        theta0 = theta0 - (learning_rate * (1 / len(scaled_weight)) * H_sum)\n",
    "        theta1 = theta1 - (learning_rate * (1 / len(scaled_weight)) * theta1_derivitive)\n",
    "\n",
    "print(\"Theta0: \", theta0)\n",
    "print(\"Theta1: \", theta1)\n",
    "print(\"Done.\")"
   ]
  },
  {
   "cell_type": "markdown",
   "id": "4a751a78",
   "metadata": {},
   "source": [
    "$$H(\\theta) = \\hat\\theta 0 + \\hat\\theta 1 * X$$"
   ]
  },
  {
   "cell_type": "markdown",
   "id": "83f3aaeb",
   "metadata": {},
   "source": [
    "<H1>******PART D******</H1>\n",
    "\n",
    "Plot/overlay the learned hypothesis from 1c on the scatter plot from 1b. What is your interpretation of the plot?"
   ]
  },
  {
   "cell_type": "code",
   "execution_count": 48,
   "id": "7fb9b675",
   "metadata": {},
   "outputs": [
    {
     "data": {
      "text/plain": [
       "<function matplotlib.pyplot.show(close=None, block=None)>"
      ]
     },
     "execution_count": 48,
     "metadata": {},
     "output_type": "execute_result"
    },
    {
     "data": {
      "image/png": "[encoded data removed]",
      "text/plain": [
       "<Figure size 432x288 with 1 Axes>"
      ]
     },
     "metadata": {
      "needs_background": "light"
     },
     "output_type": "display_data"
    }
   ],
   "source": [
    "plot_data = pd.DataFrame({'Scaled Weight':scaled_weight, 'MPG':data_mpg})\n",
    "\n",
    "ax = plot_data.plot(kind='scatter', x='Scaled Weight', y = 'MPG', title = \"MPG to Normalized Weight\", grid = True)\n",
    "\n",
    "def plotline(x, y, ax):\n",
    "    ax.plot(x, y, color = 'r')\n",
    "\n",
    "plotline([-1.9, 2.3], [29.86983180004009, 8.25255274670704], ax)\n",
    "    \n",
    "plt.show()"
   ]
  },
  {
   "cell_type": "markdown",
   "id": "9e1e9c8a",
   "metadata": {},
   "source": [
    "<H4>Interpretation</H4>\n",
    "$$H(\\theta) = 20.09058651400847 + -5.146971203174536 * X$$\n",
    "The line the algorithm provided gives a trendline that can be used to predict the MPG given a weight around the shown data's range. Upong observing the two ends of the data, it seems the upper end(scaled weight > 1) starts to flatten out and stray away from the seemingly more accurate trendline predictions in the middle of the dataset, and the lower end(scaled weight < -1) seems to become more vertical. A hypothesis for the reasoning behind this would be that you cannot have negative miles per gallon and current engines can only become so inefficent, or they are outliers in the data set. Given that observation, a exponential trend\"curve\" could be a more accurate predictor of the data.\n"
   ]
  },
  {
   "cell_type": "markdown",
   "id": "94553653",
   "metadata": {},
   "source": [
    "<H1>*****PART E*****</H1>\n",
    "\n",
    "Repeat 1c for the following choices of the learning rate"
   ]
  },
  {
   "cell_type": "code",
   "execution_count": 82,
   "id": "25a7f45d",
   "metadata": {
    "scrolled": true
   },
   "outputs": [
    {
     "name": "stdout",
     "output_type": "stream",
     "text": [
      "0.1\n",
      "Theta0:  20.09053600470401\n",
      "Theta1:  -5.1469582632867255\n",
      "Done\n",
      "0.15\n",
      "Theta0:  20.090571655631425\n",
      "Theta1:  -5.146967396633661\n",
      "Done\n",
      "0.2\n",
      "Theta0:  20.09058651400847\n",
      "Theta1:  -5.146971203174536\n",
      "Done\n",
      "0.25\n",
      "Theta0:  20.09059803050423\n",
      "Theta1:  -5.14697415356486\n",
      "Done\n",
      "0.3\n",
      "Theta0:  20.090606726699004\n",
      "Theta1:  -5.146976381427349\n",
      "Done\n"
     ]
    }
   ],
   "source": [
    "#This code is the same as above but with an outter for loop to \n",
    "#iterate through the different learning rates\n",
    "#It calculates the run time for each provided learning rate, and appends \n",
    "#the cost function values to a list for each run time\n",
    "theta0 = 0\n",
    "theta1 = 0\n",
    "\n",
    "last_theta0 = 1\n",
    "last_theta1 = 1\n",
    "\n",
    "# Initialize learning rate and convergence\n",
    "learning_rate = 0.2\n",
    "convergence = 1e-5\n",
    "\n",
    "#Learning rate changes for each iteration of the Gradient Descent Algorithm\n",
    "learning_rate_list = [0.1, 0.15, 0.2, 0.25, 0.3]\n",
    "#Cost function values for each rate\n",
    "cost_function_1 = []\n",
    "cost_function_2 = []\n",
    "cost_function_3 = []\n",
    "cost_function_4 = []\n",
    "cost_function_5 = []\n",
    "\n",
    "cost_function_values = [cost_function_1, cost_function_2, cost_function_3, cost_function_4, cost_function_5]\n",
    "#Time lists [start_time, end_time]\n",
    "run_time = []\n",
    "start_time = 0\n",
    "end_time = 0\n",
    "J = 0  # should be a singular number\n",
    "last_cost = 0\n",
    "converged = False\n",
    "H = [0] * len(scaled_weight)\n",
    "for rate_number in range(len(learning_rate_list)):\n",
    "\n",
    "    learning_rate = learning_rate_list[rate_number]\n",
    "\n",
    "    converged = False\n",
    "    theta0 = 0\n",
    "    theta1 = 0\n",
    "\n",
    "    last_theta0 = 1\n",
    "    last_theta1 = 1\n",
    "    start_time = time.time()\n",
    "    while not converged:\n",
    "        for count in range(len(scaled_weight)):\n",
    "            H[count] = theta0 + theta1 * scaled_weight[count]\n",
    "\n",
    "        temp_sum = [0] * len(scaled_weight)\n",
    "        temp_sum_squared = [0] * len(scaled_weight)\n",
    "        for count in range(len(scaled_weight)):\n",
    "            temp_sum[count] = H[count] - data_mpg[count]\n",
    "            temp_sum_squared[count] = temp_sum[count] ** 2\n",
    "\n",
    "        H_sum = 0\n",
    "        H_squared_sum = 0\n",
    "        theta1_derivitive = 0\n",
    "        for count in range(len(scaled_weight)):\n",
    "            H_sum += temp_sum[count]\n",
    "            H_squared_sum += temp_sum_squared[count]\n",
    "            theta1_derivitive += temp_sum[count] * scaled_weight[count]\n",
    "\n",
    "        J = (1 / (2 * len(scaled_weight))) * H_squared_sum\n",
    "        cost_function_values[rate_number].append(J)\n",
    "\n",
    "        if abs(theta0 - last_theta0) < convergence and abs(theta1 - last_theta1) < convergence:\n",
    "            converged = True\n",
    "        else:\n",
    "            last_cost = J\n",
    "            last_theta0 = theta0\n",
    "            last_theta1 = theta1\n",
    "            theta0 = theta0 - (learning_rate * (1 / len(scaled_weight)) * H_sum)\n",
    "            theta1 = theta1 - (learning_rate * (1 / len(scaled_weight)) * theta1_derivitive)\n",
    "    \n",
    "    end_time = time.time()\n",
    "    print(learning_rate)\n",
    "    print(\"Theta0: \", theta0)\n",
    "    print(\"Theta1: \", theta1)\n",
    "    print(\"Done\")\n",
    "    run_time.append([start_time, end_time])"
   ]
  },
  {
   "cell_type": "code",
   "execution_count": 76,
   "id": "aeac1288",
   "metadata": {
    "scrolled": true
   },
   "outputs": [
    {
     "data": {
      "image/png": "[encoded data removed]",
      "text/plain": [
       "<Figure size 432x288 with 1 Axes>"
      ]
     },
     "metadata": {
      "needs_background": "light"
     },
     "output_type": "display_data"
    }
   ],
   "source": [
    "#Creates the data to be able to plot each line using a nested for loop\n",
    "iteration_num = 0\n",
    "for values in cost_function_values:\n",
    "    temp_value = []\n",
    "    temp_pos = []\n",
    "    for num in range(len(values)):\n",
    "        temp_value.append(values[num])\n",
    "        temp_pos.append(num)\n",
    "    #Creates each line for each learning rate\n",
    "    label_lr = \"Learning Rate = \", learning_rate_list[iteration_num]\n",
    "    plt.plot(temp_pos, temp_value, label = label_lr)\n",
    "    iteration_num += 1\n",
    "\n",
    "#Creates the plot\n",
    "plt.title(\"Cost Function Values over Iterations\")\n",
    "plt.xlabel(\"# of Iterations\")\n",
    "plt.ylabel(\"Cost Function Values\")\n",
    "plt.legend()\n",
    "plt.grid()\n",
    "plt.show()"
   ]
  },
  {
   "cell_type": "code",
   "execution_count": 78,
   "id": "9d1f5a4e",
   "metadata": {
    "scrolled": true
   },
   "outputs": [
    {
     "data": {
      "image/png": "[encoded data removed]",
      "text/plain": [
       "<Figure size 432x288 with 1 Axes>"
      ]
     },
     "metadata": {
      "needs_background": "light"
     },
     "output_type": "display_data"
    }
   ],
   "source": [
    "#Creates the runtime data by learning rate\n",
    "run_time_delta = []\n",
    "for values in range(len(run_time)):\n",
    "    run_time_delta.append(run_time[values][1] - run_time[values][0])\n",
    "\n",
    "#Plots the runtime on a line graph\n",
    "plt.plot(learning_rate_list, run_time_delta)\n",
    "\n",
    "plt.xticks(learning_rate_list, learning_rate_list)\n",
    "plt.title(\"Runtime for Learning Rates\")\n",
    "plt.xlabel(\"Learning Rates\")\n",
    "plt.ylabel(\"Runtime (Seconds)\")\n",
    "plt.grid()\n",
    "plt.show()"
   ]
  },
  {
   "cell_type": "markdown",
   "id": "f70985bc",
   "metadata": {},
   "source": [
    "<H2>&nbsp;&nbsp;&nbsp;&nbsp;&nbsp;&nbsp;&nbsp;&nbsp;&nbsp;&nbsp;&nbsp;&nbsp;&nbsp;&nbsp;&nbsp;&nbsp;&nbsp;&nbsp;&nbsp;&nbsp;&nbsp;&nbsp;&nbsp;&nbsp;&nbsp;&nbsp;&nbsp;&nbsp;&nbsp;&nbsp;&nbsp;&nbsp;Conclusion</H2>\n",
    "<H4>Cost Function Values over Iterations </H4>\n",
    "The Cost Function over Iterations graph shows that the smaller the learning rate, the slower the descent to the limit(the convergence) is, thus increasing the number of iterations. In connection to the descent, since the steps are smaller, the estimate will be closer to the true value as it is able to get within a closer range of epsilon. Giving a more accurate estimation. \n",
    "<H4>Runtime for Learning Rates</H4>\n",
    "The runtime for each learning rate ties into the number of iterations the algorithm will take. When the learning rate is higher, the algorithm will take larger steps towards the convergence, but when it converges, it can be further away. The theta0 and theta1 values that were outputted for each run slowly increased as alpha increased. Since the cost function values are decreasing as it progresses, it shows that the accuracy is the tradeoff.\n",
    "\n",
    "Overall, by increasing the learning rate, you are sacrificing accuracy for time efficency. \n"
   ]
  }
 ],
 "metadata": {
  "kernelspec": {
   "display_name": "Python 3 (ipykernel)",
   "language": "python",
   "name": "python3"
  },
  "language_info": {
   "codemirror_mode": {
    "name": "ipython",
    "version": 3
   },
   "file_extension": ".py",
   "mimetype": "text/x-python",
   "name": "python",
   "nbconvert_exporter": "python",
   "pygments_lexer": "ipython3",
   "version": "3.9.12"
  }
 },
 "nbformat": 4,
 "nbformat_minor": 5
}
